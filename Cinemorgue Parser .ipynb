{
 "cells": [
  {
   "cell_type": "code",
   "execution_count": 2,
   "id": "87e40f97-e741-4f72-9f58-e59a9071ce5a",
   "metadata": {},
   "outputs": [
    {
     "data": {
      "text/html": [
       "<div>\n",
       "<style scoped>\n",
       "    .dataframe tbody tr th:only-of-type {\n",
       "        vertical-align: middle;\n",
       "    }\n",
       "\n",
       "    .dataframe tbody tr th {\n",
       "        vertical-align: top;\n",
       "    }\n",
       "\n",
       "    .dataframe thead th {\n",
       "        text-align: right;\n",
       "    }\n",
       "</style>\n",
       "<table border=\"1\" class=\"dataframe\">\n",
       "  <thead>\n",
       "    <tr style=\"text-align: right;\">\n",
       "      <th></th>\n",
       "      <th>title</th>\n",
       "      <th>text</th>\n",
       "    </tr>\n",
       "  </thead>\n",
       "  <tbody>\n",
       "    <tr>\n",
       "      <th>0</th>\n",
       "      <td>Cinemorgue Wiki</td>\n",
       "      <td>&lt;mainpage-leftcolumn-start /&gt;\\n{{Mainpage welc...</td>\n",
       "    </tr>\n",
       "    <tr>\n",
       "      <th>1</th>\n",
       "      <td>Main Page</td>\n",
       "      <td>#REDIRECT [[Cinemorgue Wiki]]</td>\n",
       "    </tr>\n",
       "    <tr>\n",
       "      <th>2</th>\n",
       "      <td>Marilyn Monroe</td>\n",
       "      <td>[[File:Marilynmonroe.jpg|frame|Marilyn Monroe ...</td>\n",
       "    </tr>\n",
       "    <tr>\n",
       "      <th>3</th>\n",
       "      <td>Joseph Cotten</td>\n",
       "      <td>[[File:Screen Shot 2023-01-05 at 2.33.19 PM.pn...</td>\n",
       "    </tr>\n",
       "    <tr>\n",
       "      <th>4</th>\n",
       "      <td>Niagara (1953)</td>\n",
       "      <td>[[File:NiagaraLobbyCard.jpg|frame|Lobby card f...</td>\n",
       "    </tr>\n",
       "  </tbody>\n",
       "</table>\n",
       "</div>"
      ],
      "text/plain": [
       "             title                                               text\n",
       "0  Cinemorgue Wiki  <mainpage-leftcolumn-start />\\n{{Mainpage welc...\n",
       "1        Main Page                      #REDIRECT [[Cinemorgue Wiki]]\n",
       "2   Marilyn Monroe  [[File:Marilynmonroe.jpg|frame|Marilyn Monroe ...\n",
       "3    Joseph Cotten  [[File:Screen Shot 2023-01-05 at 2.33.19 PM.pn...\n",
       "4   Niagara (1953)  [[File:NiagaraLobbyCard.jpg|frame|Lobby card f..."
      ]
     },
     "execution_count": 2,
     "metadata": {},
     "output_type": "execute_result"
    }
   ],
   "source": [
    "import xml.etree.ElementTree as ET\n",
    "import pandas as pd\n",
    "\n",
    "NS = 'http://www.mediawiki.org/xml/export-0.11/'\n",
    "\n",
    "def parse_wikimedia_xml(filepath):\n",
    "    tree = ET.parse(filepath)\n",
    "    root = tree.getroot()\n",
    "    data = []\n",
    "    for page in root.findall('{%s}page' % NS):\n",
    "        ns = page.find('{%s}ns' % NS).text\n",
    "        if ns != \"0\":\n",
    "            continue\n",
    "        title = page.find('{%s}title' % NS).text\n",
    "        revision = page.find('{%s}revision' % NS)\n",
    "        text = revision.find('{%s}text' % NS).text\n",
    "        data.append({'title': title, 'text': text})\n",
    "    df = pd.DataFrame(data)\n",
    "    return df\n",
    "\n",
    "df = parse_wikimedia_xml('input/cinemorgue_8.3.23.xml')\n",
    "\n",
    "df.head(5)"
   ]
  },
  {
   "cell_type": "code",
   "execution_count": 3,
   "id": "f02b2c6a-0d6e-4699-b526-6f32443600a1",
   "metadata": {},
   "outputs": [],
   "source": [
    "df['text'] = df['text'].str.split(\"Film Deaths\", n=1, expand=True)[1]"
   ]
  },
  {
   "cell_type": "code",
   "execution_count": 4,
   "id": "b3a3284c-3084-460b-80a9-e70786e49682",
   "metadata": {},
   "outputs": [],
   "source": [
    "df['text'] = df['text'].str.split(\"Television Deaths\", n=1, expand=True)[0]"
   ]
  },
  {
   "cell_type": "code",
   "execution_count": 5,
   "id": "e887a4fd-1bff-48b1-90fe-002006b1f420",
   "metadata": {},
   "outputs": [],
   "source": [
    "df['text'] = df['text'].str.split(\"TV Deaths\", n=1, expand=True)[0]"
   ]
  },
  {
   "cell_type": "code",
   "execution_count": 6,
   "id": "32f00433-b68e-436d-ab4f-a0cb71f9b85a",
   "metadata": {},
   "outputs": [],
   "source": [
    "df['text'] = df['text'].str.split(\"TV Series Deaths\", n=1, expand=True)[0]"
   ]
  },
  {
   "cell_type": "code",
   "execution_count": 7,
   "id": "756966fe-7a62-4b52-94f5-971c20d310b5",
   "metadata": {},
   "outputs": [],
   "source": [
    "df['text'] = df['text'].str.split(\"Video Game Deaths\", n=1, expand=True)[0]"
   ]
  },
  {
   "cell_type": "code",
   "execution_count": 8,
   "id": "286526b2-93ac-4f06-b293-2bfb72a9cd03",
   "metadata": {},
   "outputs": [],
   "source": [
    "df['text'] = df['text'].str.split(\"Music Video Deaths\", n=1, expand=True)[0]"
   ]
  },
  {
   "cell_type": "code",
   "execution_count": 9,
   "id": "50fb750a-31f5-41e7-a8bb-4fea1f54e32d",
   "metadata": {},
   "outputs": [],
   "source": [
    "df['text'] = df['text'].str.split(\"Notable Connections\", n=1, expand=True)[0]"
   ]
  },
  {
   "cell_type": "code",
   "execution_count": 10,
   "id": "2287acfa-1f92-4f2e-9117-b6e08f8fcdb8",
   "metadata": {},
   "outputs": [],
   "source": [
    "df['text'] = df['text'].str.split(\"Noteworthy Connections\", n=1, expand=True)[0]"
   ]
  },
  {
   "cell_type": "code",
   "execution_count": 11,
   "id": "74949947-6ac8-47bc-b058-d447d8f3d69b",
   "metadata": {},
   "outputs": [],
   "source": [
    "df['text'] = df['text'].str.split(\"Gallery\", n=1, expand=True)[0]"
   ]
  },
  {
   "cell_type": "code",
   "execution_count": 12,
   "id": "1d0c5ab9-2afc-4332-b9a8-e8cab230a1c4",
   "metadata": {},
   "outputs": [],
   "source": [
    "#Drop all recently nulled rows.\n",
    "df = df.dropna(subset=['text'])"
   ]
  },
  {
   "cell_type": "code",
   "execution_count": 13,
   "id": "a25aa054-b85a-4e55-adf0-3125761fd2e9",
   "metadata": {},
   "outputs": [
    {
     "data": {
      "text/html": [
       "<div>\n",
       "<style scoped>\n",
       "    .dataframe tbody tr th:only-of-type {\n",
       "        vertical-align: middle;\n",
       "    }\n",
       "\n",
       "    .dataframe tbody tr th {\n",
       "        vertical-align: top;\n",
       "    }\n",
       "\n",
       "    .dataframe thead th {\n",
       "        text-align: right;\n",
       "    }\n",
       "</style>\n",
       "<table border=\"1\" class=\"dataframe\">\n",
       "  <thead>\n",
       "    <tr style=\"text-align: right;\">\n",
       "      <th></th>\n",
       "      <th>title</th>\n",
       "      <th>text</th>\n",
       "    </tr>\n",
       "  </thead>\n",
       "  <tbody>\n",
       "    <tr>\n",
       "      <th>0</th>\n",
       "      <td>Joseph Cotten</td>\n",
       "      <td>'''[[Shadow of a Doubt (1943)|''Shadow of a Do...</td>\n",
       "    </tr>\n",
       "    <tr>\n",
       "      <th>1</th>\n",
       "      <td>Joseph Cotten</td>\n",
       "      <td>'''''[[Niagara (1953)]]''''' [''George Loomis'...</td>\n",
       "    </tr>\n",
       "    <tr>\n",
       "      <th>2</th>\n",
       "      <td>Joseph Cotten</td>\n",
       "      <td>'''''The Last Sunset'' (1961)''' [''John Breck...</td>\n",
       "    </tr>\n",
       "  </tbody>\n",
       "</table>\n",
       "</div>"
      ],
      "text/plain": [
       "           title                                               text\n",
       "0  Joseph Cotten  '''[[Shadow of a Doubt (1943)|''Shadow of a Do...\n",
       "1  Joseph Cotten  '''''[[Niagara (1953)]]''''' [''George Loomis'...\n",
       "2  Joseph Cotten  '''''The Last Sunset'' (1961)''' [''John Breck..."
      ]
     },
     "execution_count": 13,
     "metadata": {},
     "output_type": "execute_result"
    }
   ],
   "source": [
    "# New DataFrame to store the split rows\n",
    "new_rows = {'title': [], 'text': []}\n",
    "\n",
    "# Iterate through the original DataFrame\n",
    "for idx, row in df.iterrows():\n",
    "    title = row['title']\n",
    "    text_parts = row['text'].split('\\n*')\n",
    "    \n",
    "    # Append the new rows to the new DataFrame\n",
    "    # Skip the first element, usually contains gibberish before first line.\n",
    "    for part in text_parts[1:]:\n",
    "        new_rows['title'].append(title)\n",
    "        new_rows['text'].append(part)\n",
    "\n",
    "# Create the new DataFrame\n",
    "new_df = pd.DataFrame(new_rows)\n",
    "\n",
    "# Print the result\n",
    "new_df.head(3)"
   ]
  },
  {
   "cell_type": "code",
   "execution_count": 14,
   "id": "ceae2c2d-c5d4-4508-85dc-cd7274caf9ef",
   "metadata": {},
   "outputs": [
    {
     "data": {
      "text/html": [
       "<div>\n",
       "<style scoped>\n",
       "    .dataframe tbody tr th:only-of-type {\n",
       "        vertical-align: middle;\n",
       "    }\n",
       "\n",
       "    .dataframe tbody tr th {\n",
       "        vertical-align: top;\n",
       "    }\n",
       "\n",
       "    .dataframe thead th {\n",
       "        text-align: right;\n",
       "    }\n",
       "</style>\n",
       "<table border=\"1\" class=\"dataframe\">\n",
       "  <thead>\n",
       "    <tr style=\"text-align: right;\">\n",
       "      <th></th>\n",
       "      <th>title</th>\n",
       "      <th>text</th>\n",
       "      <th>year</th>\n",
       "    </tr>\n",
       "  </thead>\n",
       "  <tbody>\n",
       "    <tr>\n",
       "      <th>0</th>\n",
       "      <td>Joseph Cotten</td>\n",
       "      <td>'''[[Shadow of a Doubt (1943)|''Shadow of a Do...</td>\n",
       "      <td>(1943)</td>\n",
       "    </tr>\n",
       "    <tr>\n",
       "      <th>1</th>\n",
       "      <td>Joseph Cotten</td>\n",
       "      <td>'''''[[Niagara (1953)]]''''' [''George Loomis'...</td>\n",
       "      <td>(1953)</td>\n",
       "    </tr>\n",
       "    <tr>\n",
       "      <th>2</th>\n",
       "      <td>Joseph Cotten</td>\n",
       "      <td>'''''The Last Sunset'' (1961)''' [''John Breck...</td>\n",
       "      <td>(1961)</td>\n",
       "    </tr>\n",
       "  </tbody>\n",
       "</table>\n",
       "</div>"
      ],
      "text/plain": [
       "           title                                               text    year\n",
       "0  Joseph Cotten  '''[[Shadow of a Doubt (1943)|''Shadow of a Do...  (1943)\n",
       "1  Joseph Cotten  '''''[[Niagara (1953)]]''''' [''George Loomis'...  (1953)\n",
       "2  Joseph Cotten  '''''The Last Sunset'' (1961)''' [''John Breck...  (1961)"
      ]
     },
     "execution_count": 14,
     "metadata": {},
     "output_type": "execute_result"
    }
   ],
   "source": [
    "#Creating year column.\n",
    "import re\n",
    "def extract_year(text):\n",
    "    match = re.search(r'\\([^()]*\\d{1,4}[^()]*\\)', text)\n",
    "    if match:\n",
    "        return match.group(0)\n",
    "    else:\n",
    "        return None\n",
    "# Apply the function to create the \"year\" column\n",
    "new_df['year'] = new_df['text'].apply(extract_year)\n",
    "\n",
    "new_df.head(3)"
   ]
  },
  {
   "cell_type": "code",
   "execution_count": 15,
   "id": "7b6e563c-60b7-42e9-a32b-75ad8ae59270",
   "metadata": {},
   "outputs": [],
   "source": [
    "#Remove all pairs of apostraphes or quotation marks.\n",
    "new_df['text'] = new_df['text'].str.replace(r\"[''\\\"\\=]\", \"\", regex=True)"
   ]
  },
  {
   "cell_type": "code",
   "execution_count": 16,
   "id": "51c88ee3-d0ea-4068-8613-2bc4787f4c3f",
   "metadata": {},
   "outputs": [],
   "source": [
    "# Some titles have stray html formatting tags in them. \n",
    "new_df['text'] = new_df['text'].str.replace(r'\\s*<.*?>\\s*', '', regex=True)"
   ]
  },
  {
   "cell_type": "code",
   "execution_count": 17,
   "id": "427d1c4f-59ae-4bb3-84c7-93702fcf2ff5",
   "metadata": {},
   "outputs": [],
   "source": [
    "#Some titles will just have the link hardcoded in the title which is pretty impressive.\n",
    "new_df['text'] = new_df['text'].str.replace(r'https://\\S+\\s*', '', regex=True)"
   ]
  },
  {
   "cell_type": "code",
   "execution_count": 18,
   "id": "62a9540b-5340-4d59-9d58-e860e0979b37",
   "metadata": {},
   "outputs": [],
   "source": [
    "#Some titles might even hardcode the unsecured link instead.\n",
    "new_df['text'] = new_df['text'].str.replace(r'http://\\S+\\s*', '', regex=True)"
   ]
  },
  {
   "cell_type": "code",
   "execution_count": 19,
   "id": "c2398dea-cd6d-46f3-ab2e-031141319c0f",
   "metadata": {},
   "outputs": [],
   "source": [
    "# If a string starts with a link [], grab the contained string.\n",
    "# If a string is not a link, grab all textup until the first date ().\n",
    "def extract_text(row):\n",
    "    if row.startswith(\"[\"):\n",
    "        # Remove parenthesis and their contents from inside the square brackets\n",
    "        cleaned_text = re.sub(r'\\([^()]*\\)', '', row)\n",
    "        match = re.search(r'\\[(.*?)\\]', cleaned_text)\n",
    "        if match:\n",
    "            return match.group(1)\n",
    "    else:\n",
    "        match = re.search(r'^([^()]*)', row)\n",
    "        if match:\n",
    "            return match.group(1).strip()\n",
    "    return ''  # Return an empty string if no match is found\n",
    "\n",
    "new_df['text'] = new_df['text'].apply(extract_text)"
   ]
  },
  {
   "cell_type": "code",
   "execution_count": 20,
   "id": "f3bed8c5-3c03-458d-88d0-df299bc32207",
   "metadata": {},
   "outputs": [],
   "source": [
    "# Some titles are hyper links, and will have the title twice inbetween the container apostraphes.\n",
    "new_df['text'] = new_df['text'].str.split(\"|\", n=1, expand=True)[0]"
   ]
  },
  {
   "cell_type": "code",
   "execution_count": 21,
   "id": "2ad29eee-7081-4bbe-a61d-be23d4157c16",
   "metadata": {},
   "outputs": [],
   "source": [
    "#Categories sneak their way in to the poorly formatted, pages.\n",
    "new_df['text'] = new_df['text'].str.split(\"{\", n=1, expand=True)[0]"
   ]
  },
  {
   "cell_type": "code",
   "execution_count": 22,
   "id": "0359a349-0040-45f0-a865-e5509ca56f2a",
   "metadata": {},
   "outputs": [],
   "source": [
    "# Some links are double banded. [[]].\n",
    "new_df['text'] = new_df['text'].str.replace(r'\\[|\\]', '', regex=True)"
   ]
  },
  {
   "cell_type": "code",
   "execution_count": 23,
   "id": "46d71f61-8bd9-46aa-a72b-786f20db2d91",
   "metadata": {},
   "outputs": [],
   "source": [
    "# Remove all white space at end of string.\n",
    "new_df['text'] = new_df['text'].str.strip()"
   ]
  },
  {
   "cell_type": "code",
   "execution_count": 24,
   "id": "77edc6fb-e014-4e5f-bfc7-9e773262037b",
   "metadata": {},
   "outputs": [],
   "source": [
    "# Clean up year column."
   ]
  },
  {
   "cell_type": "code",
   "execution_count": 25,
   "id": "80afa9d4-0167-4d83-adae-62c65e681e7a",
   "metadata": {},
   "outputs": [],
   "source": [
    "# Remove all non numeric characters from date dolumn. (You'd be surprised.)\n",
    "def remove_non_numeric(year):\n",
    "    if year is not None:\n",
    "        return re.sub(r'[^\\d]', '', year)\n",
    "    else:\n",
    "        return year\n",
    "\n",
    "# Apply the function to the 'year' column\n",
    "new_df['year'] = new_df['year'].apply(remove_non_numeric)"
   ]
  },
  {
   "cell_type": "code",
   "execution_count": 26,
   "id": "b796d3e2-5f80-4c97-9c05-88b324226678",
   "metadata": {},
   "outputs": [],
   "source": [
    "# Remove all blank rows.\n",
    "new_df = new_df[new_df['year'] != '']"
   ]
  },
  {
   "cell_type": "code",
   "execution_count": 27,
   "id": "989f3347-9766-4467-81b1-a454d2ec786e",
   "metadata": {},
   "outputs": [],
   "source": [
    "#Remove all null rows.\n",
    "new_df = new_df.dropna(subset=['year'])"
   ]
  },
  {
   "cell_type": "code",
   "execution_count": 28,
   "id": "a3c99f05-ae60-4c6f-8980-5f29f283adde",
   "metadata": {},
   "outputs": [],
   "source": [
    "#Final export.\n",
    "new_df.to_csv('output/Cinemorgue.csv', index=False)"
   ]
  },
  {
   "cell_type": "code",
   "execution_count": null,
   "id": "13f7fc83-bc7c-45bd-9a5e-f754cc174585",
   "metadata": {},
   "outputs": [],
   "source": []
  }
 ],
 "metadata": {
  "kernelspec": {
   "display_name": "Python 3 (ipykernel)",
   "language": "python",
   "name": "python3"
  },
  "language_info": {
   "codemirror_mode": {
    "name": "ipython",
    "version": 3
   },
   "file_extension": ".py",
   "mimetype": "text/x-python",
   "name": "python",
   "nbconvert_exporter": "python",
   "pygments_lexer": "ipython3",
   "version": "3.11.4"
  }
 },
 "nbformat": 4,
 "nbformat_minor": 5
}
