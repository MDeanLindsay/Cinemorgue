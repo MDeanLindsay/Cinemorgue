{
 "cells": [
  {
   "cell_type": "markdown",
   "id": "0334d5b2-caf1-46da-beb6-79a86c7e7c50",
   "metadata": {},
   "source": [
    "Our goal is to parse a wiki dump from https://cinemorgue.fandom.com/wiki/Special:Statistics to figure out which actor/actress has died the most in movies because I don't believe a single click-bait article I've found online. Trust but verify. \n",
    "\n",
    "If you wish to grab a more recent update, download the \"Current Pages\" to get an XML file.\n",
    "Do not download \"Current Page and History\" unless you're a bit of a parsing masochist.\n",
    "\n",
    "Fandom (the site Cinemorgue is hosted on) follows the mediawiki export format of /export-0.10/.\n",
    "Using the xml tree is way easier than relying on any sort of wikiparser library out there.\n",
    "\n",
    "All actor/actress pages should be ns = 0, so we'll be grabbing these and ignoring all movie/tv show pages."
   ]
  },
  {
   "cell_type": "code",
   "execution_count": 1,
   "id": "87e40f97-e741-4f72-9f58-e59a9071ce5a",
   "metadata": {},
   "outputs": [
    {
     "data": {
      "text/html": [
       "<div>\n",
       "<style scoped>\n",
       "    .dataframe tbody tr th:only-of-type {\n",
       "        vertical-align: middle;\n",
       "    }\n",
       "\n",
       "    .dataframe tbody tr th {\n",
       "        vertical-align: top;\n",
       "    }\n",
       "\n",
       "    .dataframe thead th {\n",
       "        text-align: right;\n",
       "    }\n",
       "</style>\n",
       "<table border=\"1\" class=\"dataframe\">\n",
       "  <thead>\n",
       "    <tr style=\"text-align: right;\">\n",
       "      <th></th>\n",
       "      <th>title</th>\n",
       "      <th>text</th>\n",
       "    </tr>\n",
       "  </thead>\n",
       "  <tbody>\n",
       "    <tr>\n",
       "      <th>0</th>\n",
       "      <td>Cinemorgue Wiki</td>\n",
       "      <td>&lt;mainpage-leftcolumn-start /&gt;\\n{{Mainpage welc...</td>\n",
       "    </tr>\n",
       "    <tr>\n",
       "      <th>1</th>\n",
       "      <td>Main Page</td>\n",
       "      <td>#REDIRECT [[Cinemorgue Wiki]]</td>\n",
       "    </tr>\n",
       "    <tr>\n",
       "      <th>2</th>\n",
       "      <td>Marilyn Monroe</td>\n",
       "      <td>[[File:Marilynmonroe.jpg|frame|Marilyn Monroe ...</td>\n",
       "    </tr>\n",
       "    <tr>\n",
       "      <th>3</th>\n",
       "      <td>Joseph Cotten</td>\n",
       "      <td>[[File:Josephcotten.jpg|thumb|230px|Joseph Cot...</td>\n",
       "    </tr>\n",
       "    <tr>\n",
       "      <th>4</th>\n",
       "      <td>Niagara (1953)</td>\n",
       "      <td>[[File:NiagaraLobbyCard.jpg|frame|Lobby card f...</td>\n",
       "    </tr>\n",
       "  </tbody>\n",
       "</table>\n",
       "</div>"
      ],
      "text/plain": [
       "             title                                               text\n",
       "0  Cinemorgue Wiki  <mainpage-leftcolumn-start />\\n{{Mainpage welc...\n",
       "1        Main Page                      #REDIRECT [[Cinemorgue Wiki]]\n",
       "2   Marilyn Monroe  [[File:Marilynmonroe.jpg|frame|Marilyn Monroe ...\n",
       "3    Joseph Cotten  [[File:Josephcotten.jpg|thumb|230px|Joseph Cot...\n",
       "4   Niagara (1953)  [[File:NiagaraLobbyCard.jpg|frame|Lobby card f..."
      ]
     },
     "execution_count": 1,
     "metadata": {},
     "output_type": "execute_result"
    }
   ],
   "source": [
    "import xml.etree.ElementTree as ET\n",
    "import pandas as pd\n",
    "\n",
    "NS = 'http://www.mediawiki.org/xml/export-0.10/'\n",
    "\n",
    "def parse_wikimedia_xml(filepath):\n",
    "    tree = ET.parse(filepath)\n",
    "    root = tree.getroot()\n",
    "    data = []\n",
    "    for page in root.findall('{%s}page' % NS):\n",
    "        ns = page.find('{%s}ns' % NS).text\n",
    "        if ns != \"0\":\n",
    "            continue\n",
    "        title = page.find('{%s}title' % NS).text\n",
    "        revision = page.find('{%s}revision' % NS)\n",
    "        text = revision.find('{%s}text' % NS).text\n",
    "        data.append({'title': title, 'text': text})\n",
    "    df = pd.DataFrame(data)\n",
    "    return df\n",
    "\n",
    "df = parse_wikimedia_xml('cinemorgue.xml')\n",
    "\n",
    "df.head(5)"
   ]
  },
  {
   "cell_type": "markdown",
   "id": "2e64ecd2-8c26-42ec-835e-2f7d82d48131",
   "metadata": {},
   "source": [
    "We will only be looking at Film Deaths, because Television Deaths seem to include a lot of voice actors from animated shows which feels like cheating and ruins the spirt of finding out which actor has died the most. If you would like to look at any of the subcategories, comment out the preceding sections and change the split index value from [0] to [1] to delete all text above it.\n",
    "\n",
    "The structure of each wikimedia page, while not perfect, is relatively consistent.\n",
    "\n",
    "Each page follows the structure below (if applicable):\n",
    "\n",
    "-Overview \n",
    "\n",
    "-Film Deaths \n",
    "\n",
    "-Television Deaths/TV Deaths \n",
    "\n",
    "-Video Game Deaths \n",
    "\n",
    "-Music Video Deaths \n",
    "\n",
    "-Notable Connections \n",
    "\n",
    "\n",
    "We just want to look at movies, so we split everything above and below Film Deaths.\n",
    "Not every page has the subsequent sections, so just to be thorough, we check for and delete every other section."
   ]
  },
  {
   "cell_type": "code",
   "execution_count": 2,
   "id": "f02b2c6a-0d6e-4699-b526-6f32443600a1",
   "metadata": {},
   "outputs": [],
   "source": [
    "df['text'] = df['text'].str.split(\"Film Deaths\", n=1, expand=True)[1]"
   ]
  },
  {
   "cell_type": "code",
   "execution_count": 3,
   "id": "b3a3284c-3084-460b-80a9-e70786e49682",
   "metadata": {},
   "outputs": [],
   "source": [
    "df['text'] = df['text'].str.split(\"Television Deaths\", n=1, expand=True)[0]"
   ]
  },
  {
   "cell_type": "code",
   "execution_count": 4,
   "id": "89dd66ff-ef7e-4b64-a505-07172a9a946d",
   "metadata": {},
   "outputs": [],
   "source": [
    "#Some maverick started labeling this section TV Deaths.\n",
    "df['text'] = df['text'].str.split(\"TV Deaths\", n=1, expand=True)[0]"
   ]
  },
  {
   "cell_type": "code",
   "execution_count": 5,
   "id": "756966fe-7a62-4b52-94f5-971c20d310b5",
   "metadata": {},
   "outputs": [],
   "source": [
    "df['text'] = df['text'].str.split(\"Video Game Deaths\", n=1, expand=True)[0]"
   ]
  },
  {
   "cell_type": "code",
   "execution_count": 6,
   "id": "286526b2-93ac-4f06-b293-2bfb72a9cd03",
   "metadata": {},
   "outputs": [],
   "source": [
    "df['text'] = df['text'].str.split(\"Music Video Deaths\", n=1, expand=True)[0]"
   ]
  },
  {
   "cell_type": "code",
   "execution_count": 7,
   "id": "50fb750a-31f5-41e7-a8bb-4fea1f54e32d",
   "metadata": {},
   "outputs": [],
   "source": [
    "df['text'] = df['text'].str.split(\"Notable Connections\", n=1, expand=True)[0]"
   ]
  },
  {
   "cell_type": "code",
   "execution_count": 8,
   "id": "1d0c5ab9-2afc-4332-b9a8-e8cab230a1c4",
   "metadata": {},
   "outputs": [],
   "source": [
    "#Drop all recently nulled rows.\n",
    "df = df.dropna(subset=['text'])"
   ]
  },
  {
   "cell_type": "code",
   "execution_count": 9,
   "id": "bab3500f-16c9-438d-ae5f-934aab424d52",
   "metadata": {},
   "outputs": [],
   "source": [
    "#Every bullet point for a movie is signafied by a line break + asterisk (\\n*).\n",
    "#To get a quick count of movie deaths, we can just do a count of bullet points.\n",
    "\n",
    "df['death_count'] = df['text'].apply(lambda x: x.count('\\n*') if x is not None else None)"
   ]
  },
  {
   "cell_type": "code",
   "execution_count": 10,
   "id": "8f1b6878-a327-49ba-9e1c-6e3343b78249",
   "metadata": {},
   "outputs": [
    {
     "data": {
      "text/html": [
       "<div>\n",
       "<style scoped>\n",
       "    .dataframe tbody tr th:only-of-type {\n",
       "        vertical-align: middle;\n",
       "    }\n",
       "\n",
       "    .dataframe tbody tr th {\n",
       "        vertical-align: top;\n",
       "    }\n",
       "\n",
       "    .dataframe thead th {\n",
       "        text-align: right;\n",
       "    }\n",
       "</style>\n",
       "<table border=\"1\" class=\"dataframe\">\n",
       "  <thead>\n",
       "    <tr style=\"text-align: right;\">\n",
       "      <th></th>\n",
       "      <th>title</th>\n",
       "      <th>text</th>\n",
       "      <th>death_count</th>\n",
       "    </tr>\n",
       "  </thead>\n",
       "  <tbody>\n",
       "    <tr>\n",
       "      <th>0</th>\n",
       "      <td>Danny Trejo</td>\n",
       "      <td>==\\n\\n*'''''[[Death Wish 4: The Crackdown (198...</td>\n",
       "      <td>71</td>\n",
       "    </tr>\n",
       "    <tr>\n",
       "      <th>1</th>\n",
       "      <td>Christopher Lee</td>\n",
       "      <td>==\\n*'''''Penny and the Pownall Case'' (1948)...</td>\n",
       "      <td>66</td>\n",
       "    </tr>\n",
       "    <tr>\n",
       "      <th>2</th>\n",
       "      <td>Lance Henriksen</td>\n",
       "      <td>:==\\n\\n*'''''The Visitor'' (1979)''' [''Raymon...</td>\n",
       "      <td>58</td>\n",
       "    </tr>\n",
       "    <tr>\n",
       "      <th>3</th>\n",
       "      <td>Mel Blanc</td>\n",
       "      <td>==\\n*'''''Daffy Duck and the Dinosaur'' (1939;...</td>\n",
       "      <td>56</td>\n",
       "    </tr>\n",
       "    <tr>\n",
       "      <th>4</th>\n",
       "      <td>John Carradine</td>\n",
       "      <td>:==\\n*'''''[[The Sign of the Cross (1932)|The ...</td>\n",
       "      <td>48</td>\n",
       "    </tr>\n",
       "    <tr>\n",
       "      <th>5</th>\n",
       "      <td>Vincent Price</td>\n",
       "      <td>==\\n*'''''[[Tower of London (1939)|Tower of Lo...</td>\n",
       "      <td>45</td>\n",
       "    </tr>\n",
       "    <tr>\n",
       "      <th>6</th>\n",
       "      <td>Boris Karloff</td>\n",
       "      <td>==\\n*'''''The Criminal Code'' (1931)''' [''Gal...</td>\n",
       "      <td>43</td>\n",
       "    </tr>\n",
       "    <tr>\n",
       "      <th>7</th>\n",
       "      <td>John Hurt</td>\n",
       "      <td>==\\n*'''''The Wild and the Willing'' (1962)'''...</td>\n",
       "      <td>43</td>\n",
       "    </tr>\n",
       "    <tr>\n",
       "      <th>8</th>\n",
       "      <td>Dennis Hopper</td>\n",
       "      <td>==\\n*'''''[[Gunfight at the O.K. Corral (1957)...</td>\n",
       "      <td>42</td>\n",
       "    </tr>\n",
       "    <tr>\n",
       "      <th>9</th>\n",
       "      <td>Nicolas Cage</td>\n",
       "      <td>:==\\n*'''''[[The Cotton Club (1984)]]''''' [''...</td>\n",
       "      <td>41</td>\n",
       "    </tr>\n",
       "  </tbody>\n",
       "</table>\n",
       "</div>"
      ],
      "text/plain": [
       "             title                                               text  \\\n",
       "0      Danny Trejo  ==\\n\\n*'''''[[Death Wish 4: The Crackdown (198...   \n",
       "1  Christopher Lee   ==\\n*'''''Penny and the Pownall Case'' (1948)...   \n",
       "2  Lance Henriksen  :==\\n\\n*'''''The Visitor'' (1979)''' [''Raymon...   \n",
       "3        Mel Blanc  ==\\n*'''''Daffy Duck and the Dinosaur'' (1939;...   \n",
       "4   John Carradine  :==\\n*'''''[[The Sign of the Cross (1932)|The ...   \n",
       "5    Vincent Price  ==\\n*'''''[[Tower of London (1939)|Tower of Lo...   \n",
       "6    Boris Karloff  ==\\n*'''''The Criminal Code'' (1931)''' [''Gal...   \n",
       "7        John Hurt  ==\\n*'''''The Wild and the Willing'' (1962)'''...   \n",
       "8    Dennis Hopper  ==\\n*'''''[[Gunfight at the O.K. Corral (1957)...   \n",
       "9     Nicolas Cage  :==\\n*'''''[[The Cotton Club (1984)]]''''' [''...   \n",
       "\n",
       "   death_count  \n",
       "0           71  \n",
       "1           66  \n",
       "2           58  \n",
       "3           56  \n",
       "4           48  \n",
       "5           45  \n",
       "6           43  \n",
       "7           43  \n",
       "8           42  \n",
       "9           41  "
      ]
     },
     "execution_count": 10,
     "metadata": {},
     "output_type": "execute_result"
    }
   ],
   "source": [
    "#Buzzfeed top 10 list time, sort desc counts.\n",
    "df.sort_values(by='death_count', ascending=False, inplace=True)\n",
    "\n",
    "#Reset index.\n",
    "df = df.reset_index(drop=True)\n",
    "\n",
    "#Print top 10.\n",
    "df.head(10)"
   ]
  },
  {
   "cell_type": "markdown",
   "id": "7d39e2b4-35b5-44f5-8911-fcb360f48703",
   "metadata": {},
   "source": [
    "We will now attempt to get each movie title in their own row that you can join to IMDB data, etc. for more comparative fun.\n",
    "\n",
    "Disclosure: \n",
    "This is the part where things start to go off the rails.\n",
    "Thinking you can put years of manual entry into a tidy box with a few lines of code is a testament to man's arrogance.\n",
    "We're just going to do our best to get each title, and clean up the most common errors.\n",
    "\n",
    "So now that we have each actors name and their filmography side by side, it's time to break out each movie title into a new row.\n",
    "\n",
    "Each movie title follows the structure:\n",
    "\n",
    "-Bullet point (\\n*) to signify new line.\n",
    "\n",
    "-Two apostrophes ('') at the start of the title.\n",
    "\n",
    "-Two apostrophes ('') at the end of the title.\n",
    "\n",
    "\n",
    "There are a lot of weird cases, but generally most follow this format because \" \" signafies a bold title.\n"
   ]
  },
  {
   "cell_type": "code",
   "execution_count": 11,
   "id": "a25aa054-b85a-4e55-adf0-3125761fd2e9",
   "metadata": {},
   "outputs": [
    {
     "data": {
      "text/html": [
       "<div>\n",
       "<style scoped>\n",
       "    .dataframe tbody tr th:only-of-type {\n",
       "        vertical-align: middle;\n",
       "    }\n",
       "\n",
       "    .dataframe tbody tr th {\n",
       "        vertical-align: top;\n",
       "    }\n",
       "\n",
       "    .dataframe thead th {\n",
       "        text-align: right;\n",
       "    }\n",
       "</style>\n",
       "<table border=\"1\" class=\"dataframe\">\n",
       "  <thead>\n",
       "    <tr style=\"text-align: right;\">\n",
       "      <th></th>\n",
       "      <th>title</th>\n",
       "      <th>text</th>\n",
       "    </tr>\n",
       "  </thead>\n",
       "  <tbody>\n",
       "    <tr>\n",
       "      <th>0</th>\n",
       "      <td>Danny Trejo</td>\n",
       "      <td>''[[Death Wish 4: The Crackdown (1987)|Death W...</td>\n",
       "    </tr>\n",
       "    <tr>\n",
       "      <th>1</th>\n",
       "      <td>Danny Trejo</td>\n",
       "      <td>''The Hidden ''(1987)''' [''Prisoner'']: Shot ...</td>\n",
       "    </tr>\n",
       "    <tr>\n",
       "      <th>2</th>\n",
       "      <td>Danny Trejo</td>\n",
       "      <td>''Bulletproof'' (1988)''' [''Sharkey'']: Kille...</td>\n",
       "    </tr>\n",
       "  </tbody>\n",
       "</table>\n",
       "</div>"
      ],
      "text/plain": [
       "         title                                               text\n",
       "0  Danny Trejo  ''[[Death Wish 4: The Crackdown (1987)|Death W...\n",
       "1  Danny Trejo  ''The Hidden ''(1987)''' [''Prisoner'']: Shot ...\n",
       "2  Danny Trejo  ''Bulletproof'' (1988)''' [''Sharkey'']: Kille..."
      ]
     },
     "execution_count": 11,
     "metadata": {},
     "output_type": "execute_result"
    }
   ],
   "source": [
    "# New DataFrame to store the split rows\n",
    "new_rows = {'title': [], 'text': []}\n",
    "\n",
    "# Iterate through the original DataFrame\n",
    "for idx, row in df.iterrows():\n",
    "    title = row['title']\n",
    "    text_parts = row['text'].split(\"\\n*'''\")\n",
    "    \n",
    "    # Append the new rows to the new DataFrame\n",
    "    # Skip the first element, usually contains gibberish before first line.\n",
    "    for part in text_parts[1:]:\n",
    "        new_rows['title'].append(title)\n",
    "        new_rows['text'].append(part)\n",
    "\n",
    "# Create the new DataFrame\n",
    "new_df = pd.DataFrame(new_rows)\n",
    "\n",
    "# Print the result\n",
    "new_df.head(3)"
   ]
  },
  {
   "cell_type": "code",
   "execution_count": 12,
   "id": "8cca5964-f688-4d6e-b182-15f98ac84df8",
   "metadata": {},
   "outputs": [
    {
     "data": {
      "text/html": [
       "<div>\n",
       "<style scoped>\n",
       "    .dataframe tbody tr th:only-of-type {\n",
       "        vertical-align: middle;\n",
       "    }\n",
       "\n",
       "    .dataframe tbody tr th {\n",
       "        vertical-align: top;\n",
       "    }\n",
       "\n",
       "    .dataframe thead th {\n",
       "        text-align: right;\n",
       "    }\n",
       "</style>\n",
       "<table border=\"1\" class=\"dataframe\">\n",
       "  <thead>\n",
       "    <tr style=\"text-align: right;\">\n",
       "      <th></th>\n",
       "      <th>title</th>\n",
       "      <th>text</th>\n",
       "    </tr>\n",
       "  </thead>\n",
       "  <tbody>\n",
       "    <tr>\n",
       "      <th>0</th>\n",
       "      <td>Danny Trejo</td>\n",
       "      <td>[[Death Wish 4: The Crackdown (1987)|Death Wis...</td>\n",
       "    </tr>\n",
       "    <tr>\n",
       "      <th>1</th>\n",
       "      <td>Danny Trejo</td>\n",
       "      <td>The Hidden</td>\n",
       "    </tr>\n",
       "    <tr>\n",
       "      <th>2</th>\n",
       "      <td>Danny Trejo</td>\n",
       "      <td>Bulletproof</td>\n",
       "    </tr>\n",
       "  </tbody>\n",
       "</table>\n",
       "</div>"
      ],
      "text/plain": [
       "         title                                               text\n",
       "0  Danny Trejo  [[Death Wish 4: The Crackdown (1987)|Death Wis...\n",
       "1  Danny Trejo                                         The Hidden\n",
       "2  Danny Trejo                                        Bulletproof"
      ]
     },
     "execution_count": 12,
     "metadata": {},
     "output_type": "execute_result"
    }
   ],
   "source": [
    "# There will be some rows that don't start with '' like they should.\n",
    "# We will select the movie titles between '' '', and skip those that don't start with the container apostraphes.\n",
    "\n",
    "def extract_text_between_quotes(input_string):\n",
    "    if input_string.startswith(\"''\"):\n",
    "        # Find the indices of the first and second occurrences of ''\n",
    "        first_quote_index = input_string.find(\"''\")\n",
    "        second_quote_index = input_string.find(\"''\", first_quote_index + 2)\n",
    "\n",
    "        # Extract the text between the first and second occurrences of ''\n",
    "        result = input_string[first_quote_index + 2:second_quote_index].strip()\n",
    "    else:\n",
    "        # Return the whole input string if it doesn't start with ''\n",
    "        result = input_string.strip()\n",
    "\n",
    "    return result\n",
    "\n",
    "output = []\n",
    "\n",
    "for idx, row in new_df.iterrows():\n",
    "    title, text = row\n",
    "    extracted_text = extract_text_between_quotes(text)\n",
    "    output.append({\"title\": title, \"text\": extracted_text})\n",
    "\n",
    "new_df = pd.DataFrame(output)\n",
    "\n",
    "new_df.head(3)"
   ]
  },
  {
   "cell_type": "code",
   "execution_count": 13,
   "id": "fc491024-421c-402b-81da-f4420f189743",
   "metadata": {},
   "outputs": [],
   "source": [
    "# Titles that are skipped above, delete everything after the first ''.\n",
    "new_df['text'] = new_df['text'].str.split(\"''\", n=1, expand=True)[0]"
   ]
  },
  {
   "cell_type": "code",
   "execution_count": 14,
   "id": "526ac8a0-33ed-4f4a-a356-9d7bf9bf5a6f",
   "metadata": {},
   "outputs": [],
   "source": [
    "# Remove all instances of dates. Some are formatted like (1972; animated) so we're just removing all parenthesis. \n",
    "# Hopefully there aren't many movies that use parenthesis in their titles.\n",
    "new_df['text'] = new_df['text'].str.replace(r\"\\s*\\([^()]*\\)\", \"\", regex=True)"
   ]
  },
  {
   "cell_type": "code",
   "execution_count": 15,
   "id": "f3bed8c5-3c03-458d-88d0-df299bc32207",
   "metadata": {},
   "outputs": [],
   "source": [
    "# Some titles are hyper links, and will have the title twice inbetween the container apostraphes.\n",
    "# The two titles are split by |, so just delete all text after |.\n",
    "new_df['text'] = new_df['text'].str.split(\"|\", n=1, expand=True)[0]"
   ]
  },
  {
   "cell_type": "code",
   "execution_count": 16,
   "id": "0359a349-0040-45f0-a865-e5509ca56f2a",
   "metadata": {},
   "outputs": [],
   "source": [
    "# Titles that have links will be in inside of [ ]. Just delete them since the above deletes the link portion.\n",
    "new_df['text'] = new_df['text'].str.replace(r'\\[|\\]', '', regex=True)"
   ]
  },
  {
   "cell_type": "code",
   "execution_count": 17,
   "id": "5a0da32f-aac6-4d51-b1fc-409787bc0e5c",
   "metadata": {},
   "outputs": [],
   "source": [
    "#Some titles will have bonus parenthesis () due to typos, etc. so just delete all instances.\n",
    "new_df['text'] = new_df['text'].replace(to_replace=r'\\(|\\)', value='', regex=True)"
   ]
  },
  {
   "cell_type": "code",
   "execution_count": 18,
   "id": "427d1c4f-59ae-4bb3-84c7-93702fcf2ff5",
   "metadata": {},
   "outputs": [],
   "source": [
    "#Some titles will just have the link hardcoded in the title which is pretty impressive.\n",
    "new_df['text'] = new_df['text'].str.replace(r'https://\\S+\\s*', '', regex=True)"
   ]
  },
  {
   "cell_type": "code",
   "execution_count": 19,
   "id": "62a9540b-5340-4d59-9d58-e860e0979b37",
   "metadata": {},
   "outputs": [],
   "source": [
    "#Some titles might even hardcode the unsecured link instead.\n",
    "new_df['text'] = new_df['text'].str.replace(r'http://\\S+\\s*', '', regex=True)"
   ]
  },
  {
   "cell_type": "code",
   "execution_count": 20,
   "id": "51c88ee3-d0ea-4068-8613-2bc4787f4c3f",
   "metadata": {},
   "outputs": [],
   "source": [
    "# Some titles have stray html formatting tags in them. \n",
    "new_df['text'] = new_df['text'].str.replace(r'\\s*<.*?>\\s*', '', regex=True)"
   ]
  },
  {
   "cell_type": "code",
   "execution_count": 21,
   "id": "3e5c2e92-d803-40ef-b241-8bf449fb7996",
   "metadata": {},
   "outputs": [],
   "source": [
    "#Final export.\n",
    "new_df.to_csv('Cinemorgue.csv', index=False)"
   ]
  }
 ],
 "metadata": {
  "kernelspec": {
   "display_name": "Python 3 (ipykernel)",
   "language": "python",
   "name": "python3"
  },
  "language_info": {
   "codemirror_mode": {
    "name": "ipython",
    "version": 3
   },
   "file_extension": ".py",
   "mimetype": "text/x-python",
   "name": "python",
   "nbconvert_exporter": "python",
   "pygments_lexer": "ipython3",
   "version": "3.11.4"
  }
 },
 "nbformat": 4,
 "nbformat_minor": 5
}
